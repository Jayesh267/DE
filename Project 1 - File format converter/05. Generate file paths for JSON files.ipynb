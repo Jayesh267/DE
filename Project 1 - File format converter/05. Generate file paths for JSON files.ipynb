{
 "cells": [
  {
   "cell_type": "code",
   "execution_count": 4,
   "metadata": {},
   "outputs": [],
   "source": [
    "import glob\n",
    "import re"
   ]
  },
  {
   "cell_type": "code",
   "execution_count": 2,
   "metadata": {},
   "outputs": [],
   "source": [
    "src_file_names = glob.glob('data/retail_db/*/part-*', recursive=True)"
   ]
  },
  {
   "cell_type": "code",
   "execution_count": 3,
   "metadata": {},
   "outputs": [
    {
     "data": {
      "text/plain": [
       "['data/retail_db\\\\categories\\\\part-00000',\n",
       " 'data/retail_db\\\\customers\\\\part-00000',\n",
       " 'data/retail_db\\\\departments\\\\part-00000',\n",
       " 'data/retail_db\\\\orders\\\\part-00000',\n",
       " 'data/retail_db\\\\order_items\\\\part-00000',\n",
       " 'data/retail_db\\\\products\\\\part-00000']"
      ]
     },
     "execution_count": 3,
     "metadata": {},
     "output_type": "execute_result"
    }
   ],
   "source": [
    "src_file_names"
   ]
  },
  {
   "cell_type": "code",
   "execution_count": 5,
   "metadata": {},
   "outputs": [
    {
     "name": "stdout",
     "output_type": "stream",
     "text": [
      "['data', 'retail_db', 'categories', 'part-00000']\n",
      "['data', 'retail_db', 'customers', 'part-00000']\n",
      "['data', 'retail_db', 'departments', 'part-00000']\n",
      "['data', 'retail_db', 'orders', 'part-00000']\n",
      "['data', 'retail_db', 'order_items', 'part-00000']\n",
      "['data', 'retail_db', 'products', 'part-00000']\n"
     ]
    },
    {
     "name": "stderr",
     "output_type": "stream",
     "text": [
      "<>:2: SyntaxWarning: invalid escape sequence '\\]'\n",
      "<>:2: SyntaxWarning: invalid escape sequence '\\]'\n",
      "C:\\Users\\JMhatre\\AppData\\Local\\Temp\\ipykernel_16988\\3794668933.py:2: SyntaxWarning: invalid escape sequence '\\]'\n",
      "  file_paths = re.split('[/\\\\\\]', file)\n"
     ]
    }
   ],
   "source": [
    "for file in src_file_names:\n",
    "    file_paths = re.split('[/\\\\\\]', file)\n",
    "    print(file_paths)"
   ]
  },
  {
   "cell_type": "code",
   "execution_count": 6,
   "metadata": {},
   "outputs": [],
   "source": [
    "target_base_dir = 'data/retail_db_json/'"
   ]
  },
  {
   "cell_type": "code",
   "execution_count": 7,
   "metadata": {},
   "outputs": [
    {
     "name": "stdout",
     "output_type": "stream",
     "text": [
      "data/retail_db_json/categories/part-00000\n",
      "data/retail_db_json/customers/part-00000\n",
      "data/retail_db_json/departments/part-00000\n",
      "data/retail_db_json/orders/part-00000\n",
      "data/retail_db_json/order_items/part-00000\n",
      "data/retail_db_json/products/part-00000\n"
     ]
    },
    {
     "name": "stderr",
     "output_type": "stream",
     "text": [
      "<>:2: SyntaxWarning: invalid escape sequence '\\]'\n",
      "<>:2: SyntaxWarning: invalid escape sequence '\\]'\n",
      "C:\\Users\\JMhatre\\AppData\\Local\\Temp\\ipykernel_16988\\3862650133.py:2: SyntaxWarning: invalid escape sequence '\\]'\n",
      "  file_paths_list = re.split('[/\\\\\\]', file)\n"
     ]
    }
   ],
   "source": [
    "for file in src_file_names:\n",
    "    file_paths_list = re.split('[/\\\\\\]', file)\n",
    "    ds_name = file_paths_list[2]\n",
    "    file_name = file_paths_list[3]\n",
    "    json_file_path = (f'{target_base_dir}{ds_name}/{file_name}')\n",
    "    print(json_file_path)"
   ]
  },
  {
   "cell_type": "code",
   "execution_count": null,
   "metadata": {},
   "outputs": [],
   "source": []
  }
 ],
 "metadata": {
  "kernelspec": {
   "display_name": "pr-venv",
   "language": "python",
   "name": "python3"
  },
  "language_info": {
   "codemirror_mode": {
    "name": "ipython",
    "version": 3
   },
   "file_extension": ".py",
   "mimetype": "text/x-python",
   "name": "python",
   "nbconvert_exporter": "python",
   "pygments_lexer": "ipython3",
   "version": "3.12.3"
  },
  "orig_nbformat": 4
 },
 "nbformat": 4,
 "nbformat_minor": 2
}
