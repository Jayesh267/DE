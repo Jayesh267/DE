{
 "cells": [
  {
   "cell_type": "code",
   "execution_count": 1,
   "metadata": {},
   "outputs": [],
   "source": [
    "import glob\n",
    "import pandas as pd\n",
    "import re\n",
    "import json\n",
    "import os"
   ]
  },
  {
   "cell_type": "code",
   "execution_count": 2,
   "metadata": {},
   "outputs": [],
   "source": [
    "def get_column_names(schemas, dataset_name, sorting_key='column_position'):\n",
    "    column_details = schemas[dataset_name]\n",
    "    columns = sorted(column_details, key=lambda cols: cols[sorting_key])\n",
    "    return [cols['column_name'] for cols in columns]"
   ]
  },
  {
   "cell_type": "code",
   "execution_count": 3,
   "metadata": {},
   "outputs": [
    {
     "name": "stderr",
     "output_type": "stream",
     "text": [
      "<>:2: SyntaxWarning: invalid escape sequence '\\]'\n",
      "<>:2: SyntaxWarning: invalid escape sequence '\\]'\n",
      "C:\\Users\\JMhatre\\AppData\\Local\\Temp\\ipykernel_19324\\4115021972.py:2: SyntaxWarning: invalid escape sequence '\\]'\n",
      "  file_paths_list = re.split('[/\\\\\\]', file)\n"
     ]
    }
   ],
   "source": [
    "def read_csv(file, schemas):\n",
    "    file_paths_list = re.split('[/\\\\\\]', file)\n",
    "    dataset_name = file_paths_list[2]\n",
    "    columns = get_column_names(schemas, dataset_name)\n",
    "    df = pd.read_csv(file, names=columns)\n",
    "    return df"
   ]
  },
  {
   "cell_type": "code",
   "execution_count": 4,
   "metadata": {},
   "outputs": [],
   "source": [
    "def to_json(df, target_base_dir, dataset_name, file_name):\n",
    "    json_file_path = f'{target_base_dir}/{dataset_name}/{file_name}'\n",
    "    os.makedirs(f'{target_base_dir}/{dataset_name}', exist_ok=True)\n",
    "    df.to_json(json_file_path, orient='records', lines=True)"
   ]
  },
  {
   "cell_type": "code",
   "execution_count": 5,
   "metadata": {},
   "outputs": [
    {
     "name": "stderr",
     "output_type": "stream",
     "text": [
      "<>:11: SyntaxWarning: invalid escape sequence '\\]'\n",
      "<>:11: SyntaxWarning: invalid escape sequence '\\]'\n",
      "C:\\Users\\JMhatre\\AppData\\Local\\Temp\\ipykernel_19324\\1314919032.py:11: SyntaxWarning: invalid escape sequence '\\]'\n",
      "  file_name = re.split('[/\\\\\\]', file)[3]\n"
     ]
    }
   ],
   "source": [
    "def file_converter(dataset_name):\n",
    "    source_base_dir = 'data/retail_db'\n",
    "    target_base_dir = 'data/retail_db_json'\n",
    "\n",
    "    schemas = json.load(open(f'{source_base_dir}/schemas.json'))\n",
    "    files = glob.glob(f'{source_base_dir}/{dataset_name}/part-*')\n",
    "\n",
    "    for file in files:\n",
    "        print(f'Processing {file}')\n",
    "        df = read_csv(file, schemas)\n",
    "        file_name = re.split('[/\\\\\\]', file)[3]\n",
    "        to_json(df, target_base_dir, dataset_name, file_name)"
   ]
  },
  {
   "cell_type": "code",
   "execution_count": 6,
   "metadata": {},
   "outputs": [
    {
     "name": "stdout",
     "output_type": "stream",
     "text": [
      "Processing data/retail_db/orders\\part-00000\n"
     ]
    }
   ],
   "source": [
    "dataset_name = 'orders'\n",
    "file_converter(dataset_name)"
   ]
  },
  {
   "cell_type": "code",
   "execution_count": null,
   "metadata": {},
   "outputs": [],
   "source": []
  }
 ],
 "metadata": {
  "kernelspec": {
   "display_name": "pr-venv",
   "language": "python",
   "name": "python3"
  },
  "language_info": {
   "codemirror_mode": {
    "name": "ipython",
    "version": 3
   },
   "file_extension": ".py",
   "mimetype": "text/x-python",
   "name": "python",
   "nbconvert_exporter": "python",
   "pygments_lexer": "ipython3",
   "version": "3.12.3"
  },
  "orig_nbformat": 4
 },
 "nbformat": 4,
 "nbformat_minor": 2
}
