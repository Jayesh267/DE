{
 "cells": [
  {
   "cell_type": "code",
   "execution_count": 14,
   "metadata": {},
   "outputs": [],
   "source": [
    "import glob\n",
    "import pandas as pd\n",
    "import re\n",
    "import json\n",
    "import os"
   ]
  },
  {
   "cell_type": "code",
   "execution_count": 2,
   "metadata": {},
   "outputs": [],
   "source": [
    "target_base_dir = 'data/retail_db_json'"
   ]
  },
  {
   "cell_type": "code",
   "execution_count": 3,
   "metadata": {},
   "outputs": [],
   "source": [
    "src_file_names = glob.glob('data/retail_db/*/part-*', recursive=True)"
   ]
  },
  {
   "cell_type": "code",
   "execution_count": 4,
   "metadata": {},
   "outputs": [
    {
     "data": {
      "text/plain": [
       "['data/retail_db\\\\categories\\\\part-00000',\n",
       " 'data/retail_db\\\\customers\\\\part-00000',\n",
       " 'data/retail_db\\\\departments\\\\part-00000',\n",
       " 'data/retail_db\\\\orders\\\\part-00000',\n",
       " 'data/retail_db\\\\order_items\\\\part-00000',\n",
       " 'data/retail_db\\\\products\\\\part-00000']"
      ]
     },
     "execution_count": 4,
     "metadata": {},
     "output_type": "execute_result"
    }
   ],
   "source": [
    "src_file_names"
   ]
  },
  {
   "cell_type": "code",
   "execution_count": 6,
   "metadata": {},
   "outputs": [],
   "source": [
    "schemas = json.load(open('data/retail_db/schemas.json'))"
   ]
  },
  {
   "cell_type": "code",
   "execution_count": 12,
   "metadata": {},
   "outputs": [],
   "source": [
    "def get_column_names(schemas, dataset_name, sorting_key='column_position'):\n",
    "    column_details = schemas[dataset_name]\n",
    "    columns = sorted(column_details, key=lambda cols: cols[sorting_key])\n",
    "    return [cols['column_name'] for cols in columns]"
   ]
  },
  {
   "cell_type": "code",
   "execution_count": 13,
   "metadata": {},
   "outputs": [
    {
     "data": {
      "text/plain": [
       "['order_id', 'order_date', 'order_customer_id', 'order_status']"
      ]
     },
     "execution_count": 13,
     "metadata": {},
     "output_type": "execute_result"
    }
   ],
   "source": [
    "get_column_names(schemas, 'orders')"
   ]
  },
  {
   "attachments": {},
   "cell_type": "markdown",
   "metadata": {},
   "source": [
    "* Get the file names using glob\n",
    "* Split to get the database name and file name\n",
    "* Get column names based on database name\n",
    "* Use os to create directories\n",
    "* Read the csv file into a dataframe\n",
    "* Convert the dataframe to a json file and store in the path"
   ]
  },
  {
   "cell_type": "code",
   "execution_count": 15,
   "metadata": {},
   "outputs": [
    {
     "name": "stderr",
     "output_type": "stream",
     "text": [
      "<>:2: SyntaxWarning: invalid escape sequence '\\]'\n",
      "<>:2: SyntaxWarning: invalid escape sequence '\\]'\n",
      "C:\\Users\\JMhatre\\AppData\\Local\\Temp\\ipykernel_3544\\2090745106.py:2: SyntaxWarning: invalid escape sequence '\\]'\n",
      "  file_path_list = re.split('[/\\\\\\]',file)\n"
     ]
    }
   ],
   "source": [
    "for file in src_file_names:\n",
    "    file_path_list = re.split('[/\\\\\\]',file)\n",
    "    dataset_name = file_path_list[2]\n",
    "    file_name = file_path_list[3]\n",
    "    column_names = get_column_names(schemas, dataset_name)\n",
    "    json_file_path = f'{target_base_dir}/{dataset_name}/{file_name}'\n",
    "    os.makedirs(f'{target_base_dir}/{dataset_name}', exist_ok=True)\n",
    "    df = pd.read_csv(file, names=column_names)\n",
    "    df.to_json(json_file_path, orient='records', lines=True)"
   ]
  },
  {
   "cell_type": "code",
   "execution_count": null,
   "metadata": {},
   "outputs": [],
   "source": []
  }
 ],
 "metadata": {
  "kernelspec": {
   "display_name": "pr-venv",
   "language": "python",
   "name": "python3"
  },
  "language_info": {
   "codemirror_mode": {
    "name": "ipython",
    "version": 3
   },
   "file_extension": ".py",
   "mimetype": "text/x-python",
   "name": "python",
   "nbconvert_exporter": "python",
   "pygments_lexer": "ipython3",
   "version": "3.12.3"
  },
  "orig_nbformat": 4
 },
 "nbformat": 4,
 "nbformat_minor": 2
}
